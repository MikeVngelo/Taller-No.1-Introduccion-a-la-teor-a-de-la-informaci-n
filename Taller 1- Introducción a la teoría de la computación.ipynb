{
 "cells": [
  {
   "cell_type": "markdown",
   "metadata": {},
   "source": [
    "\n",
    "# Taller No.1  Introducción a la teoria de la computación\n"
   ]
  },
  {
   "cell_type": "markdown",
   "metadata": {},
   "source": [
    "## Miguel Ángel Tovar Onofre     Cod: 2879924 \n"
   ]
  },
  {
   "cell_type": "markdown",
   "metadata": {},
   "source": [
    "### Solución "
   ]
  },
  {
   "cell_type": "markdown",
   "metadata": {},
   "source": [
    "##### 1. Considere el problema de determinar si un código corresponde a un ISBN de 13 dígitos. Construya un autómata finito determinístico para identificar si un código es válido o no. Especifique formalmente el autómata, dibuje el diagrama y la tabla de transiciones. Implemente el autómata correspondiente utilizado una clase autómata."
   ]
  },
  {
   "cell_type": "markdown",
   "metadata": {},
   "source": [
    "Definicion formal:"
   ]
  },
  {
   "cell_type": "markdown",
   "metadata": {},
   "source": [
    "$ A= (${$q_{0},q_{1},q_{2},q_{3},\\cdots,q_{18} $}$, ${$ \\mathbb{N} \\cup ${$ I,S,B,N $}  }$ , \\delta, ${$ q_{0} $}$, ${$q_{17}$})"
   ]
  },
  {
   "cell_type": "markdown",
   "metadata": {},
   "source": [
    "Tabla de transiciones:"
   ]
  },
  {
   "cell_type": "markdown",
   "metadata": {},
   "source": [
    "Q|{0,1,$\\cdots$,9}|I|S|B|N\n",
    "-|-|-\n",
    "$ \\rightarrow q_{0}$|$ \\emptyset$|$ q_{1}$|$ \\emptyset$|$ \\emptyset$|$ \\emptyset$\n",
    "$  q_{1}$|$ \\emptyset$|$ \\emptyset $|$ q_{2}$|$ \\emptyset$|$ \\emptyset$\n",
    "$  q_{2}$|$ \\emptyset$|$ \\emptyset$|$ \\emptyset$|$ q_{3}$|$ \\emptyset$\n",
    "$  q_{3}$|$ \\emptyset$|$ \\emptyset$|$ \\emptyset$|$ \\emptyset$|$ q_{4}$\n",
    "$  q_{4}$|$ q_{5}$|$ \\emptyset$|$ \\emptyset$|$ \\emptyset$|$ \\emptyset$\n",
    "$  q_{5}$|$ q_{6}$|$ \\emptyset$|$ \\emptyset$|$ \\emptyset$|$ \\emptyset$\n",
    "$  q_{6}$|$ q_{7}$|$ \\emptyset$|$ \\emptyset$|$ \\emptyset$|$ \\emptyset$\n",
    "$  \\vdots $|$ \\vdots$|$ \\vdots$|$ \\vdots$|$ \\vdots$|$ \\vdots$\n",
    "$  q_{15}$|$ q_{16}$|$ \\emptyset$|$ \\emptyset$|$ \\emptyset$|$ \\emptyset$\n",
    "$  q_{16}$|$ q_{17}$|$ \\emptyset$|$ \\emptyset$|$ \\emptyset$|$ \\emptyset$\n",
    "$  *q_{17}$|$ \\emptyset$|$ \\emptyset$|$ \\emptyset$|$ \\emptyset$|$ \\emptyset$"
   ]
  },
  {
   "cell_type": "markdown",
   "metadata": {},
   "source": [
    "Diagrama de transiciones:"
   ]
  },
  {
   "cell_type": "markdown",
   "metadata": {},
   "source": [
    "<img src=\"files/desktop/Punto1.PNG\">"
   ]
  },
  {
   "cell_type": "code",
   "execution_count": null,
   "metadata": {
    "collapsed": true
   },
   "outputs": [],
   "source": [
    "class Automata:\n",
    "\n",
    "\n",
    "\n",
    "estado = \"[0-5]\" \n",
    "count = 13\n",
    "digito=\"[0-9]\"\n",
    "letra= \"[S|I|N|B]\"\n",
    "\n",
    "\n",
    "\n",
    "def EDO0(entrada): \n",
    "    global estado \n",
    "    print('Estado 0, inicial') \n",
    "    sleep(2) \n",
    "    if entrada == \"I\": \n",
    "        estado = 1 \n",
    "        print(u'Transición hacia 1...') \n",
    "             \n",
    "def EDO1(entrada): \n",
    "    global estado \n",
    "    print('Estado 1') \n",
    "    sleep(2) \n",
    "        if entrada == \"S\": \n",
    "        estado = 2 \n",
    "        print(u'Transición hacia 2...') \n",
    "\n",
    "def EDO2(entrada): \n",
    "    global estado \n",
    "    print('Estado 2') \n",
    "    sleep(2) \n",
    "    if entrada == \"B\": \n",
    "        estado = 3 \n",
    "        print(u'Transición hacia 3...') \n",
    "\n",
    "def EDO3(entrada): \n",
    "    global estado \n",
    "    print('Estado 3') \n",
    "    sleep(2) \n",
    "    if entrada == \"N\": \n",
    "        estado = 4 \n",
    "        print(u'Transición hacia 4...') \n",
    "   \n",
    "def EDO4(entrada): \n",
    "    while(count  > 0):\n",
    "        global estado \n",
    "        print('Estado 4')\n",
    "        sleep(2) \n",
    "        if entrada == digito: \n",
    "        estado = 4 \n",
    "        print(u'Transición hacia 4...') \n",
    "\n",
    "    global estado \n",
    "        print('Estado 4') \n",
    "        sleep(2) \n",
    "        if entrada == digito: \n",
    "            estado = 5 \n",
    "            print(u'Transición hacia 5...') \n",
    "\n",
    "    \n",
    "def FSM(entrada): \n",
    "    global estado \n",
    "    switch = { \n",
    "       'i':EDOi, \n",
    "        0 :EDO0, \n",
    "        1 :EDO1, \n",
    "        2 :EDO2, \n",
    "       3:EDO3,\n",
    "4 :EDO4,\n",
    "5:EDO5,\n",
    "    } \n",
    "    func = switch.get(estado, lambda: None) \n",
    "    return func(entrada) \n",
    "\n",
    "#Programa Principal \n",
    "while True:     \n",
    " FSM(input()) \n",
    " sleep(2)"
   ]
  },
  {
   "cell_type": "markdown",
   "metadata": {},
   "source": [
    "##### 2. Construya un autómata finito determinístico sobre el alfabeto la cual acepte todas las cadenas que contengan NO más de dos ocurrencias consecutivas de la misma entrada (Por ejemplo, abba es aceptada y abbba no es aceptada). Especifique formalmente el autómata, dibuje el diagrama y la tabla de transiciones."
   ]
  },
  {
   "cell_type": "markdown",
   "metadata": {},
   "source": [
    "Defición formal: $ A= (${$q_{0},q_{1},q_{2},q_{3},q_{4}$}$, ${$a,b$}$ , \\delta, ${$ q_{0} $}$, ${$q_{1},q_{2},q_{3},q_{4}$}) \n"
   ]
  },
  {
   "cell_type": "markdown",
   "metadata": {},
   "source": [
    "Tabla de transiciones:"
   ]
  },
  {
   "cell_type": "markdown",
   "metadata": {},
   "source": [
    "Q|a|b\n",
    "-|-|-\n",
    "$ \\rightarrow q_{0}$|$ q_{2}$|$ q_{1}$\n",
    "$ * q_{1}$|$ q_{2}$|$ q_{3}$\n",
    "$ * q_{2}$|$ q_{4}$|$ q_{1}$\n",
    "$ * q_{3}$|$ q_{2}$|$ \\emptyset $\n",
    "$ * q_{4}$|$ \\emptyset $|$ q_{1}$"
   ]
  },
  {
   "cell_type": "markdown",
   "metadata": {},
   "source": [
    "Diagrama de transiciones:"
   ]
  },
  {
   "cell_type": "markdown",
   "metadata": {},
   "source": [
    "<img src=\"files/desktop/Punto2.png\">"
   ]
  },
  {
   "cell_type": "markdown",
   "metadata": {},
   "source": [
    "##### 3. Dado un autómata finito determinístico $M$ , construya un nuevo autómata finito determinístico $M'$ con el mismo alfabeto de entrada y con la propiedad de que para todos los $u \\in \\Sigma^{*}$ , u es aceptado por $M'$ si y solo si NO es aceptado por $M$."
   ]
  },
  {
   "cell_type": "markdown",
   "metadata": {},
   "source": []
  },
  {
   "cell_type": "markdown",
   "metadata": {},
   "source": [
    "##### 4. Dados dos autómatas finitos determinísticos $M_{1}$ y $M_{2}$ con el mismo alfabeto de entrada, construya un tercer autómata finito determinísticos (M) con la propiedad que $u \\in \\Sigma^{*}$  es aceptado por M si y solo si es aceptado por ambos $M_{1}$ y $M_{2}$ ."
   ]
  },
  {
   "cell_type": "markdown",
   "metadata": {},
   "source": [
    "$ M= (${$Q_{1}$}$, ${$\\Sigma_{1}$}$ , \\delta, ${$ q_{i_{1}} $}$, ${$q_{f_{1}}$})\n",
    "\n",
    "$ M'= (${$Q_{2}$}$, ${$\\Sigma_{2}$}$ , \\delta, ${$ q_{i_{2}} $}$, ${$q_{f_{2}}$})\n",
    "\n",
    "$ (M)= (${$Q_{3}$}$, ${$\\Sigma_{1} \\cup \\Sigma_{1} $}$ , \\delta, ${$ q_{i_{3}} $}$, ${$q_{f_{3}}$})"
   ]
  },
  {
   "cell_type": "markdown",
   "metadata": {},
   "source": [
    "##### 5. Construya un autómata finito no determinístico que permita aceptar palabras sobre el alfabeto {1,2,3} tal que el último símbolo aparezca al menos dos veces, pero sin la intervención de un símbolo superior en la mitad. Por ejemplo, 11, 2112, 123113, 3212113, etc."
   ]
  },
  {
   "cell_type": "markdown",
   "metadata": {},
   "source": [
    "Defición formal: $ A= (${$q_{0},q_{1},q_{2},q_{3},q_{4}$}$, ${$1,2,3$}$ , \\delta, ${$ q_{0} $}$, ${$q_{4}$}) "
   ]
  },
  {
   "cell_type": "markdown",
   "metadata": {},
   "source": [
    "Tabla de transiciones:"
   ]
  },
  {
   "cell_type": "markdown",
   "metadata": {},
   "source": [
    "Q|1|2|3\n",
    "-|-|-\n",
    "$ \\rightarrow q_{0}$|$ q_{1}$|$ q_{2}$|$ q_{3}$\n",
    "$  q_{1}$|$ q_{4}$|$ q_{2}$|$ q_{3}$\n",
    "$  q_{2}$|$ q_{2}$|$ q_{4}$|$ q_{3}$\n",
    "$  q_{3}$|$ q_{3}$|$ q_{3} $|$ q_{4}$\n",
    "$ * q_{4}$|$ \\emptyset $|$ \\emptyset$|$ \\emptyset$"
   ]
  },
  {
   "cell_type": "markdown",
   "metadata": {},
   "source": [
    "Diagrama de transiciones:"
   ]
  },
  {
   "cell_type": "markdown",
   "metadata": {},
   "source": [
    "<img src='files/Desktop/Punto5.png'>"
   ]
  },
  {
   "cell_type": "markdown",
   "metadata": {},
   "source": [
    "##### 6. Escriba un autómata que reconozca todos las cadenas sobre que representan números binarios que son divisibles por 5 . Por ejemplo, 0, 101, 1010, 1111, 11001."
   ]
  },
  {
   "cell_type": "markdown",
   "metadata": {},
   "source": [
    "Defición formal: $ A= (${$q_{0},q_{1},q_{2},q_{3},q_{4}$}$, ${$0,1$}$ , \\delta, ${$ q_{0} $}$, ${$q_{0}$})"
   ]
  },
  {
   "cell_type": "markdown",
   "metadata": {},
   "source": [
    "Tabla de transiciones:"
   ]
  },
  {
   "cell_type": "markdown",
   "metadata": {},
   "source": [
    "Q|0|1\n",
    "-|-|-\n",
    "$ \\rightarrow *q_{0}$|$ q_{0}$|$ q_{1}$\n",
    "$  q_{1}$|$ q_{2}$|$ q_{3}$\n",
    "$  q_{2}$|$ q_{4}$|$ q_{0}$\n",
    "$  q_{3}$|$ q_{1}$|$ q_{2} $\n",
    "$  q_{4}$|$ q_{3} $|$ q_{4}$"
   ]
  },
  {
   "cell_type": "markdown",
   "metadata": {},
   "source": [
    "Diagrama de transiciones: "
   ]
  },
  {
   "cell_type": "markdown",
   "metadata": {},
   "source": [
    "<img src=\"files/Desktop/Punto63.jpg\">"
   ]
  },
  {
   "cell_type": "markdown",
   "metadata": {},
   "source": [
    "###### 7.Un sistema de transiciones es una generalización de los autómatas finitos no determinísticos con  $ \\epsilon $ - transiciones, en la cual se admiten transiciones adicionales con palabras de longitud mayor o igual a 1. De una definición formal de los sistemas de transiciones, y pruebe que los lenguajes aceptados por un sistema de transiciones son aceptados por un DFA."
   ]
  },
  {
   "cell_type": "markdown",
   "metadata": {},
   "source": [
    "###### Definición formal:"
   ]
  },
  {
   "cell_type": "markdown",
   "metadata": {},
   "source": [
    "Sea:\n",
    "\n",
    "S : Un sistema de transciciones.\n",
    "\n",
    "$ \\omega $ : Una palabra\n",
    "\n",
    "NFA- $\\epsilon $ : Un automata finito no deterministico\n",
    "\n",
    "Un sistema de transiciones de define como:\n"
   ]
  },
  {
   "cell_type": "markdown",
   "metadata": {},
   "source": [
    " S = { $($ NFA-$\\epsilon \\cup \\omega ) \\mid |\\omega| \\geq 1 $}"
   ]
  },
  {
   "cell_type": "markdown",
   "metadata": {},
   "source": [
    "###### Prueba"
   ]
  },
  {
   "cell_type": "markdown",
   "metadata": {},
   "source": [
    "Sea:"
   ]
  },
  {
   "cell_type": "markdown",
   "metadata": {},
   "source": [
    "$ \\omega $ : Una palabra.\n",
    "\n",
    "S : Un sistema de transiciones.\n",
    "\n",
    "a: Un simbolo cualquiera perteneciente al lenguaje y la palabra $\\omega$\n",
    "\n"
   ]
  },
  {
   "cell_type": "markdown",
   "metadata": {},
   "source": [
    "-- Para un sistema de transiciones:  \n",
    "Si $|W|  \\geq 1, W \\in S $\n",
    "\n",
    "-- Para un DFA: \n",
    "\n",
    "$|W| \\geq 1$\n",
    "\n",
    "Para la demostracion, usaremos el siguiente ejemplo:\n",
    "\n",
    "DFA={$Q,\\Sigma, \\delta,q_{0},q_{F}$}\n",
    "\n",
    "$W=a$\n",
    "\n",
    "$\\hat{\\delta}=\\delta(q_{0},a)=q_{F}$\n",
    "\n",
    "\n"
   ]
  },
  {
   "cell_type": "markdown",
   "metadata": {},
   "source": [
    "###### 8.Pruebe o desapruebe la siguiente afirmación: El siguiente autómata acepta el lenguaje $ L = ${$w | w =  a^{i}b^{j}$   ó    $w = a^{i}c^{j} , i \\geq 1, j \\geq 1$}"
   ]
  },
  {
   "cell_type": "markdown",
   "metadata": {},
   "source": [
    "Diagrama de transiciones del automata:"
   ]
  },
  {
   "cell_type": "markdown",
   "metadata": {},
   "source": [
    "Estado|a|b|c\n",
    "-----|-------|-----\n",
    "$ \\rightarrow q_{0}$|$ q_{1},q_{5}$|$q_{3}$|$q_{3}$\n",
    "$  q_{1}$|$ q_{1}$|$ q_{2}$|$q_{3}$\n",
    "$  * q_{2}$|$ q_{3}$|$ q_{2}$|$q_{3}$\n",
    "$   q_{3}$|$ q_{3}$|$q_{3}$|$q_{3}$\n",
    "$   q_{4}$|$ q_{3}$|$ q_{3}$|$q_{4}$\n",
    "$   q_{5}$|$ q_{5}$|$ q_{3}$|$q_{4}$"
   ]
  },
  {
   "cell_type": "markdown",
   "metadata": {},
   "source": [
    "Para probar esta afirmación usaremos el siguiente ejemplo:"
   ]
  },
  {
   "cell_type": "markdown",
   "metadata": {},
   "source": [
    "Sean i=2 y j=3\n",
    "\n",
    "Para probar el automata, debemos usar dos partes, de las cuales se dice que si una de las dos es aceptada, el lenguaje sera aceptado:\n",
    "\n",
    "\n",
    "1ra Parte:\n",
    "\n",
    "w=a^{2}c^{3}= aaccc\n",
    "\n",
    "$\\hat{\\delta} (q_{0},\\varepsilon) = ${$q_{0}$}\n",
    "\n",
    "$\\hat{\\delta} (q_{0},a)= \\delta(q_{0},a) = ${$q_{1},q_{5}$}\n",
    "\n",
    "$\\hat{\\delta} (q_{0},aa)= \\delta(q_{1},a)\\cup \\delta(q_{5},a) = ${$q_{1},q_{5}$}\n",
    "\n",
    "$\\hat{\\delta} (q_{0},aac)= \\delta(q_{1},c)\\cup \\delta(q_{5},c) = ${$q_{3},q_{4}$}\n",
    "\n",
    "$\\hat{\\delta} (q_{0},aacc)= \\delta(q_{3},c)\\cup \\delta(q_{4},c) = ${$q_{3},q_{4}$}\n",
    "\n",
    "$\\hat{\\delta} (q_{0},aaccc)= \\delta(q_{3},c)\\cup \\delta(q_{4},c) = ${$q_{3},q_{4}$}\n",
    "\n",
    "En esta parte de la prueba, el ultimo simbolo no se encuentra en el estado final {$q_{2}$}, la palabra no es aceptada por el automata.\n",
    "\n",
    "\n",
    "2da Parte:\n",
    "\n",
    "w=a^{2}b^{3}= aabbb\n",
    "\n",
    "$\\hat{\\delta} (q_{0},\\varepsilon) = ${$q_{0}$}\n",
    "\n",
    "$\\hat{\\delta} (q_{0},a)= \\delta(q_{0},a) = ${$q_{1},q_{5}$}\n",
    "\n",
    "$\\hat{\\delta} (q_{0},aa)= \\delta(q_{1},a)\\cup \\delta(q_{5},a) = ${$q_{1},q_{5}$}\n",
    "\n",
    "$\\hat{\\delta} (q_{0},aab)= \\delta(q_{1},b)\\cup \\delta(q_{5},b) = ${$q_{2},q_{3}$}\n",
    "\n",
    "$\\hat{\\delta} (q_{0},aabb)= \\delta(q_{2},b)\\cup \\delta(q_{3},b) = ${$q_{2},q_{3}$}\n",
    "\n",
    "$\\hat{\\delta} (q_{0},aabbb)= \\delta(q_{2},b)\\cup \\delta(q_{3},b) = ${$q_{2},q_{3}$}\n",
    "\n",
    "Dado que en esta parte, el ultimo simbolo se encuentra en el estado final {$q_{2}$}, se dice que la palabra es aceptada por el automata, por ende, el lenguaje es aceptado por este mismo.\n",
    "\n",
    "\n",
    "Ya que una de las partes es aceptada por el automata, podemos decir que el lenguaje del enunciado es aceptado por el automata.\n",
    "\n"
   ]
  },
  {
   "cell_type": "markdown",
   "metadata": {},
   "source": [
    "###### 9.Respecto al uso de autómatas (máquinas de estado finito) para el diseño de personajes de video juegos: A. ¿Cúales son las ventajas del uso de la abstracción de maquinas de estado frente a una implementación utilizando  condicionales? B. ¿Cómo se utilizan los autómatas en el diseño de personajes para video juegos?"
   ]
  },
  {
   "cell_type": "markdown",
   "metadata": {},
   "source": [
    "A. \n",
    "\n",
    "Ventajas de una maquina de estado finito\n",
    "\n",
    "* Permiten una mayor comprensión al seguir los pasos de un protocolo.\n",
    "* Al abstraer detalles que no son importantes para el analisis a un alto nivel, permite enfocarse en aspectos clave del sistema.\n",
    "* Pueden ayudar a reducir las variables globales, por lo que aumentaria la confiabilidad del sistema.\n",
    "* Facilitan el analisis y diseño del sistema.\n",
    "* Son aplicables a la creacion de cualquier protocolo."
   ]
  },
  {
   "cell_type": "markdown",
   "metadata": {},
   "source": [
    "B."
   ]
  },
  {
   "cell_type": "markdown",
   "metadata": {},
   "source": [
    "En el diseño de personajes para videojuegos, los automatas son utilizados para programar las diferentes acciones o pasos que realizara el personaje de acuerdo a la situacion o estado en la que se encuentre. Desde el inicio del juego, el personaje puede cambiar de estados de acuerdo a las acciones que realize el jugador y los comandos con los cuales haya sido programado.\n",
    "Los automatas se utilizan para dar un orden a los diferentes algoritmos o secuencias de ordenes que puede conllevar controlar el movimiento y manejo de un personaje.\n",
    "Hay personajes cuyos automatas pueden ser mas simples que los de otros, ya que de acuerdo a la complejidad y cantidad de acciones que se tengan destinadas para el personaje y el juego, se determina la cantidad de estados y la manera mas optima de hacer las transiciones.\n",
    "\n",
    "Los estados estan determinados por situaciones como \" combate\", \"sigilo\", \"incognito\", \"supervivencia\" y situaciones de este tipo que influenciarian sobre las acciones tomadas por el personaje, que este caso serian las transiciones entre estados. Las acciones pueden ser \"saltar\", \"ocultar\",\"escapar\",\"atacar\",\"espiar\",\"correr\", etc. "
   ]
  }
 ],
 "metadata": {
  "kernelspec": {
   "display_name": "Python 3",
   "language": "python",
   "name": "python3"
  },
  "language_info": {
   "codemirror_mode": {
    "name": "ipython",
    "version": 3
   },
   "file_extension": ".py",
   "mimetype": "text/x-python",
   "name": "python",
   "nbconvert_exporter": "python",
   "pygments_lexer": "ipython3",
   "version": "3.6.0"
  }
 },
 "nbformat": 4,
 "nbformat_minor": 2
}
